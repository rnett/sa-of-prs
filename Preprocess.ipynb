{
 "cells": [
  {
   "cell_type": "code",
   "execution_count": 1,
   "metadata": {
    "collapsed": true,
    "pycharm": {
     "is_executing": false
    }
   },
   "outputs": [
    {
     "name": "stderr",
     "text": [
      "c:\\users\\jimne\\appdata\\local\\programs\\python\\python37\\lib\\site-packages\\ipykernel_launcher.py:6: DeprecationWarning: Using or importing the ABCs from 'collections' instead of from 'collections.abc' is deprecated, and in 3.8 it will stop working\n",
      "  \n"
     ],
     "output_type": "stream"
    },
    {
     "name": "stdout",
     "text": [
      "3863509 PRs\n",
      "10000 PR Objects\n"
     ],
     "output_type": "stream"
    }
   ],
   "source": [
    "import gzip\n",
    "import json\n",
    "import pickle\n",
    "import urllib\n",
    "from collections import Set\n",
    "from typing import MutableSet, List\n",
    "import data\n",
    "from data import load\n",
    "import urllib.request\n",
    "from tqdm import tqdm\n",
    "\n",
    "prs = set()\n",
    "\n",
    "def to_api_url(url: str):\n",
    "    return url[:url.rindex(\"#\")]\\\n",
    "        .replace(\"github.com/\", \"api.github.com/repos/\")\\\n",
    "        .replace(\"/pull/\", \"/pulls/\")\n",
    "\n",
    "def to_issue_comments_url(api_url: str):\n",
    "    return api_url.replace(\"pulls\", \"issues\") + \"/comments\"\n",
    "\n",
    "def to_comments_url(api_url: str):\n",
    "    return api_url + \"/comments\"\n",
    "\n",
    "# i = 0\n",
    "# for l in tqdm(load(), total=25323640, desc=\"Records\", unit='record'):\n",
    "#     #print(l)\n",
    "#     i += 1\n",
    "#     if l[\"URL\"] is not None:\n",
    "#         prs.add(to_api_url(l[\"URL\"]))\n",
    "#         if '#discussion' not in (l[\"URL\"] or \"#discussion\"):\n",
    "#             print(\"Found: \", l)\n",
    "#             break\n",
    "# \n",
    "# pickle.dump(prs, gzip.open(data.prs_file, 'wb+', 9))\n",
    "\n",
    "prs: MutableSet[str] = pickle.load(gzip.open(data.prs_file, 'rb', 9))\n",
    "\n",
    "print(len(prs), \"PRs\")\n",
    "\n",
    "# pr_docs = []\n",
    "# \n",
    "# pbar = tqdm(prs, total=11_000)\n",
    "# skipped = 0\n",
    "# for pr_url in pbar:\n",
    "#     try:\n",
    "#         repo, num = data.PR.repo_and_num_from_api_url(pr_url)\n",
    "#         pr_docs.append(data.PR.create_from_api(repo, num))\n",
    "#     except Exception as e:\n",
    "#         skipped  += 1\n",
    "#     \n",
    "#     pbar.set_postfix_str(\"Skipped: \" + str(skipped))\n",
    "#     \n",
    "#     if len(pr_docs) == 10_000:\n",
    "#         break\n",
    "# \n",
    "# pickle.dump(pr_docs, gzip.open(data.prs_obj_file, 'wb+', 9))\n",
    "\n",
    "pr_docs: List[data.PR] = pickle.load(gzip.open(data.prs_obj_file, 'rb', 9))\n",
    "\n",
    "print(len(pr_docs), \"PR Objects\")"
   ]
  }
 ],
 "metadata": {
  "kernelspec": {
   "display_name": "Python 3",
   "language": "python",
   "name": "python3"
  },
  "language_info": {
   "codemirror_mode": {
    "name": "ipython",
    "version": 2
   },
   "file_extension": ".py",
   "mimetype": "text/x-python",
   "name": "python",
   "nbconvert_exporter": "python",
   "pygments_lexer": "ipython2",
   "version": "2.7.6"
  },
  "pycharm": {
   "stem_cell": {
    "cell_type": "raw",
    "source": [],
    "metadata": {
     "collapsed": false
    }
   }
  }
 },
 "nbformat": 4,
 "nbformat_minor": 0
}