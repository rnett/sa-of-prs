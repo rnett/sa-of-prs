{
 "cells": [
  {
   "cell_type": "code",
   "execution_count": 1,
   "metadata": {
    "collapsed": true,
    "pycharm": {
     "is_executing": false
    }
   },
   "outputs": [
    {
     "name": "stderr",
     "output_type": "stream",
     "text": [
      "c:\\users\\jimne\\appdata\\local\\programs\\python\\python37\\lib\\site-packages\\ipykernel_launcher.py:6: DeprecationWarning: Using or importing the ABCs from 'collections' instead of from 'collections.abc' is deprecated, and in 3.8 it will stop working\n",
      "  \n"
     ]
    },
    {
     "name": "stdout",
     "output_type": "stream",
     "text": [
      "3863509 PRs\n"
     ]
    }
   ],
   "source": [
    "import gzip\n",
    "import json\n",
    "import pickle\n",
    "import urllib\n",
    "from collections import Set\n",
    "from typing import MutableSet, List\n",
    "import data\n",
    "from data import load\n",
    "import urllib.request\n",
    "from tqdm import tqdm\n",
    "from langdetect import detect\n",
    "\n",
    "# i = 0\n",
    "# for l in tqdm(load(), total=25323640, desc=\"Records\", unit='record'):\n",
    "#     #print(l)\n",
    "#     i += 1\n",
    "#     if l[\"URL\"] is not None:\n",
    "#         prs.add(to_api_url(l[\"URL\"]))\n",
    "#         if '#discussion' not in (l[\"URL\"] or \"#discussion\"):\n",
    "#             print(\"Found: \", l)\n",
    "#             break\n",
    "# \n",
    "# pickle.dump(prs, gzip.open(data.prs_file, 'wb+', 9))\n",
    "\n",
    "prs: MutableSet[str] = pickle.load(gzip.open(data.prs_file, 'rb', 9))\n",
    "\n",
    "print(len(prs), \"PRs\")"
   ]
  },
  {
   "cell_type": "code",
   "execution_count": 2,
   "metadata": {
    "collapsed": false,
    "pycharm": {
     "name": "#%%\n",
     "is_executing": false
    }
   },
   "outputs": [
    {
     "name": "stdout",
     "output_type": "stream",
     "text": [
      "10000 PR Objects\n",
      "5000 Were Merged\n"
     ]
    }
   ],
   "source": [
    "# pr_docs = []\n",
    "# \n",
    "# TOTAL_DOCS = 10_000\n",
    "# \n",
    "# pbar = tqdm(total=int(TOTAL_DOCS * 1.1), desc=\"Loading PRs\", unit=\"pr\")\n",
    "# skipped = 0\n",
    "# \n",
    "# total_merged = 0\n",
    "# total_unmerged = 0\n",
    "# \n",
    "# for pr_url in prs:\n",
    "#     try:\n",
    "#         repo, num = data.PR.repo_and_num_from_api_url(pr_url)\n",
    "#         doc = data.PR.create_from_api(repo, num)\n",
    "#         \n",
    "#         text = \"  \".join(doc.all_comments).replace(\"\\n\", \"  \")\n",
    "#         \n",
    "#         if detect(text) != 'en':\n",
    "#             skipped  += 1\n",
    "#             continue\n",
    "#         \n",
    "#         if total_merged >= int(TOTAL_DOCS / 2) and doc.merged:\n",
    "#             continue\n",
    "#         \n",
    "#         if total_unmerged >= int(TOTAL_DOCS / 2) and not doc.merged:\n",
    "#             continue\n",
    "#         \n",
    "#         pr_docs.append(doc)\n",
    "#         pbar.update()\n",
    "#         \n",
    "#         if doc.merged:\n",
    "#             total_merged += 1\n",
    "#         else:\n",
    "#             total_unmerged += 1\n",
    "#         \n",
    "#     except Exception as e:\n",
    "#         skipped  += 1\n",
    "# \n",
    "#     pbar.set_postfix_str(\"Skipped: \" + str(skipped) + \" - Merged: \" + str(total_merged))\n",
    "# \n",
    "#     if len(pr_docs) == TOTAL_DOCS:\n",
    "#         break\n",
    "# \n",
    "# pickle.dump(pr_docs, gzip.open(data.prs_obj_file, 'wb+', 9))\n",
    "\n",
    "pr_docs: List[data.PR] = pickle.load(gzip.open(data.prs_obj_file, 'rb', 9))\n",
    "\n",
    "print(len(pr_docs), \"PR Objects\")\n",
    "print(sum(1 if p.merged else 0 for p in pr_docs), \"Were Merged\")"
   ]
  },
  {
   "cell_type": "code",
   "execution_count": 3,
   "metadata": {
    "collapsed": false,
    "pycharm": {
     "name": "#%%\n",
     "is_executing": false
    }
   },
   "outputs": [
    {
     "name": "stdout",
     "output_type": "stream",
     "text": [
      "Example: gtk-rs/glib - 231\n",
      "Comments:\n",
      " @GuillaumeGomez @EPashkin Any comments on this? Once this and the gir change landed, we need to regenerate all bindings that come with signals.\n",
      "-------------------------------------\n",
      "Ah sorry, I said it on IRC but I repeat here as well: I like it. All good for me!\n",
      "-------------------------------------\n",
      "`handler as u64`?\n",
      "-------------------------------------\n",
      "I meant: you lost conversion.\n",
      "-------------------------------------\n",
      "No, it's internally all based on c_ulong now again, like the FFI functions. No cast is needed here unless you meant something else.\n",
      "-------------------------------------\n",
      "Seems this not fully so:\r\n",
      "```\r\n",
      "error[E0277]: the trait bound `signal::SignalHandlerId: translate::FromGlib<u64>` is not satisfied\r\n",
      "  --> src\\signal.rs:57:5\r\n",
      "   |\r\n",
      "57 |     from_glib(handle)\r\n",
      "   |     ^^^^^^^^^ the trait `translate::FromGlib<u64>` is not implemented for `signal::SignalHandlerId`\r\n",
      "   |\r\n",
      "   = help: the following implementations were found:\r\n",
      "             <signal::SignalHandlerId as translate::FromGlib<u32>>\r\n",
      "   = note: required by `translate::from_glib`\r\n",
      "```\n",
      "-------------------------------------\n",
      "There was a cast right in the line above, which would have to be removed. Done! Thanks for noticing\n",
      "-------------------------------------\n",
      "FWIW, this would've only failed on Windows (32/64 bit) and 32 bit variants of other platforms. Elsewhere c_ulong and u64 are equivalent.\n",
      "-------------------------------------\n",
      "👍 for merge.\n",
      "-------------------------------------\n",
      "Or it need regen with https://github.com/gtk-rs/gir/pull/454?\n",
      "-------------------------------------\n",
      "It needs regen with https://github.com/gtk-rs/gir/pull/453\n",
      "-------------------------------------\n",
      "Let's wait for the regen then! :)\n",
      "-------------------------------------\n",
      "The regens won't compile without having this GLib change merged first.\n",
      "-------------------------------------\n",
      "@GuillaumeGomez Or do you want all regens first, not compiling, and then merge it all in one go?\n",
      "-------------------------------------\n",
      "It's always so annoying... Let's merge this one first!\n",
      "-------------------------------------\n",
      "It definitely is, yes. Once you get https://github.com/gtk-rs/gir/pull/454 and https://github.com/gtk-rs/glib/pull/232 in, I'll send regens for everything. Otherwise there would have to be regens twice\n",
      "\n",
      "\n",
      "\n",
      "Issue Comments:\n",
      " @GuillaumeGomez @EPashkin Any comments on this? Once this and the gir change landed, we need to regenerate all bindings that come with signals.\n",
      "-------------------------------------\n",
      "Ah sorry, I said it on IRC but I repeat here as well: I like it. All good for me!\n",
      "-------------------------------------\n",
      "👍 for merge.\n",
      "-------------------------------------\n",
      "Or it need regen with https://github.com/gtk-rs/gir/pull/454?\n",
      "-------------------------------------\n",
      "It needs regen with https://github.com/gtk-rs/gir/pull/453\n",
      "-------------------------------------\n",
      "Let's wait for the regen then! :)\n",
      "-------------------------------------\n",
      "The regens won't compile without having this GLib change merged first.\n",
      "-------------------------------------\n",
      "@GuillaumeGomez Or do you want all regens first, not compiling, and then merge it all in one go?\n",
      "-------------------------------------\n",
      "It's always so annoying... Let's merge this one first!\n",
      "-------------------------------------\n",
      "It definitely is, yes. Once you get https://github.com/gtk-rs/gir/pull/454 and https://github.com/gtk-rs/glib/pull/232 in, I'll send regens for everything. Otherwise there would have to be regens twice\n",
      "\n",
      "\n",
      "\n",
      "Code Review Comments:\n",
      " `handler as u64`?\n",
      "-------------------------------------\n",
      "I meant: you lost conversion.\n",
      "-------------------------------------\n",
      "No, it's internally all based on c_ulong now again, like the FFI functions. No cast is needed here unless you meant something else.\n",
      "-------------------------------------\n",
      "Seems this not fully so:\r\n",
      "```\r\n",
      "error[E0277]: the trait bound `signal::SignalHandlerId: translate::FromGlib<u64>` is not satisfied\r\n",
      "  --> src\\signal.rs:57:5\r\n",
      "   |\r\n",
      "57 |     from_glib(handle)\r\n",
      "   |     ^^^^^^^^^ the trait `translate::FromGlib<u64>` is not implemented for `signal::SignalHandlerId`\r\n",
      "   |\r\n",
      "   = help: the following implementations were found:\r\n",
      "             <signal::SignalHandlerId as translate::FromGlib<u32>>\r\n",
      "   = note: required by `translate::from_glib`\r\n",
      "```\n",
      "-------------------------------------\n",
      "There was a cast right in the line above, which would have to be removed. Done! Thanks for noticing\n",
      "-------------------------------------\n",
      "FWIW, this would've only failed on Windows (32/64 bit) and 32 bit variants of other platforms. Elsewhere c_ulong and u64 are equivalent.\n"
     ]
    }
   ],
   "source": [
    "doc = pr_docs[3]\n",
    "print(\"Example:\", doc.repo, \"-\", doc.pr_number)\n",
    "print(\"Comments:\\n\", \"\\n-------------------------------------\\n\".join(doc.all_comments))\n",
    "print(\"\\n\\n\\nIssue Comments:\\n\", \"\\n-------------------------------------\\n\".join(doc.issue_comments))\n",
    "print(\"\\n\\n\\nCode Review Comments:\\n\", \"\\n-------------------------------------\\n\".join(doc.review_comments))\n"
   ]
  },
  {
   "cell_type": "code",
   "execution_count": 4,
   "metadata": {
    "collapsed": false,
    "pycharm": {
     "name": "#%%\n",
     "is_executing": false
    }
   },
   "outputs": [
    {
     "name": "stdout",
     "output_type": "stream",
     "text": [
      "Example: tibbe/unordered-containers - 132\n",
      "Comments:\n",
      " Nitpick: end sentences in a dot.\n",
      "\n",
      "-------------------------------------\n",
      "oops, thanks, fixed\n",
      "\n",
      "\n",
      "\n",
      "\n",
      "Issue Comments:\n",
      " \n",
      "\n",
      "\n",
      "\n",
      "Code Review Comments:\n",
      " Nitpick: end sentences in a dot.\n",
      "\n",
      "-------------------------------------\n",
      "oops, thanks, fixed\n",
      "\n"
     ]
    }
   ],
   "source": [
    "doc = pr_docs[5]\n",
    "print(\"Example:\", doc.repo, \"-\", doc.pr_number)\n",
    "print(\"Comments:\\n\", \"\\n-------------------------------------\\n\".join(doc.all_comments))\n",
    "print(\"\\n\\n\\nIssue Comments:\\n\", \"\\n-------------------------------------\\n\".join(doc.issue_comments))\n",
    "print(\"\\n\\n\\nCode Review Comments:\\n\", \"\\n-------------------------------------\\n\".join(doc.review_comments))\n"
   ]
  }
 ],
 "metadata": {
  "kernelspec": {
   "display_name": "Python 3",
   "language": "python",
   "name": "python3"
  },
  "language_info": {
   "codemirror_mode": {
    "name": "ipython",
    "version": 2
   },
   "file_extension": ".py",
   "mimetype": "text/x-python",
   "name": "python",
   "nbconvert_exporter": "python",
   "pygments_lexer": "ipython2",
   "version": "2.7.6"
  },
  "pycharm": {
   "stem_cell": {
    "cell_type": "raw",
    "source": [],
    "metadata": {
     "collapsed": false
    }
   }
  }
 },
 "nbformat": 4,
 "nbformat_minor": 0
}
