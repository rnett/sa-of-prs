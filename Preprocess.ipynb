{
 "cells": [
  {
   "cell_type": "code",
   "execution_count": 2,
   "metadata": {
    "collapsed": true,
    "pycharm": {
     "is_executing": false
    }
   },
   "outputs": [
    {
     "name": "stdout",
     "text": [
      "3863509 PRs\n"
     ],
     "output_type": "stream"
    }
   ],
   "source": [
    "import gzip\n",
    "import json\n",
    "import pickle\n",
    "import urllib\n",
    "import data\n",
    "from data import load\n",
    "import urllib.request\n",
    "from tqdm import tqdm\n",
    "\n",
    "prs = set()\n",
    "\n",
    "def to_api_url(url: str):\n",
    "    return url[:url.rindex(\"#\")]\\\n",
    "        .replace(\"github.com/\", \"api.github.com/repos/\")\\\n",
    "        .replace(\"/pull/\", \"/pulls/\")\n",
    "\n",
    "def to_issue_comments_url(api_url: str):\n",
    "    return api_url.replace(\"pulls\", \"issues\") + \"/comments\"\n",
    "\n",
    "def to_comments_url(api_url: str):\n",
    "    return api_url + \"/comments\"\n",
    "\n",
    "# i = 0\n",
    "# for l in tqdm(load(), total=25323640, desc=\"Records\", unit='record'):\n",
    "#     #print(l)\n",
    "#     i += 1\n",
    "#     if l[\"URL\"] is not None:\n",
    "#         prs.add(to_api_url(l[\"URL\"]))\n",
    "#         if '#discussion' not in (l[\"URL\"] or \"#discussion\"):\n",
    "#             print(\"Found: \", l)\n",
    "#             break\n",
    "# \n",
    "# pickle.dump(prs, gzip.open(data.prs_file, 'wb+', 9))\n",
    "\n",
    "prs = pickle.load(gzip.open(data.prs_file, 'rb', 9))\n",
    "\n",
    "print(len(prs), \"PRs\")\n",
    "\n",
    "def get_data(url: str):\n",
    "    api_url = to_api_url(url)\n",
    "    api_data = json.loads(urllib.request.urlopen(api_url))\n",
    "    \n",
    "    closed = api_data['closed']\n",
    "    merged = api_data['merged']\n"
   ]
  }
 ],
 "metadata": {
  "kernelspec": {
   "display_name": "Python 3",
   "language": "python",
   "name": "python3"
  },
  "language_info": {
   "codemirror_mode": {
    "name": "ipython",
    "version": 2
   },
   "file_extension": ".py",
   "mimetype": "text/x-python",
   "name": "python",
   "nbconvert_exporter": "python",
   "pygments_lexer": "ipython2",
   "version": "2.7.6"
  },
  "pycharm": {
   "stem_cell": {
    "cell_type": "raw",
    "source": [],
    "metadata": {
     "collapsed": false
    }
   }
  }
 },
 "nbformat": 4,
 "nbformat_minor": 0
}